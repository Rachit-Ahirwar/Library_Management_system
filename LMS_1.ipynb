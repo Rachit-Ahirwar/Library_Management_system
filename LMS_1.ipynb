{
  "nbformat": 4,
  "nbformat_minor": 0,
  "metadata": {
    "colab": {
      "provenance": []
    },
    "kernelspec": {
      "name": "python3",
      "display_name": "Python 3"
    },
    "language_info": {
      "name": "python"
    }
  },
  "cells": [
    {
      "cell_type": "code",
      "source": [
        "#LIBRARY MANAGEMENT SYSTEM\n",
        "\n",
        "class book:\n",
        "  def __init__(self,t,a,c):\n",
        "    self.title=t\n",
        "    self.author=a\n",
        "    self.cost=c\n",
        "list_of_books=[]\n",
        "while 1:\n",
        "  print('press 1 to add new book')\n",
        "  print('press 2 to delete book')\n",
        "  print('press 3 to show all books')\n",
        "  print('press 4 to issue book')\n",
        "  print('press 5 to return book')\n",
        "  print('press 6 to add new student')\n",
        "  print('press 7 to delete student')\n",
        "  print('press 8 to stop the application')\n",
        "\n",
        "  str=input('choose an option')\n",
        "  if str=='1':\n",
        "    t=input('enter the title')\n",
        "    a=input('enter the author')\n",
        "    c=input('enter the cost')\n",
        "    list_of_books.append(book(t,a,c))\n",
        "  elif str=='2':\n",
        "    pass\n",
        "  elif str=='3':\n",
        "      for i in list_of_books:\n",
        "        print('title:',i.title)\n",
        "        print('author:',i.author)\n",
        "        print('cost:',i.cost)\n",
        "  elif str=='4':\n",
        "    pass\n",
        "  elif str=='8':\n",
        "    print('exit')\n",
        "    break\n",
        "  else:\n",
        "    print('book is not issue')\n",
        "\n"
      ],
      "metadata": {
        "id": "zYNes3-oEdhZ",
        "outputId": "fe43c800-d3f3-4ae8-f27c-7af88659650d",
        "colab": {
          "base_uri": "https://localhost:8080/"
        }
      },
      "execution_count": 6,
      "outputs": [
        {
          "output_type": "stream",
          "name": "stdout",
          "text": [
            "press 1 to add new book\n",
            "press 2 to delete book\n",
            "press 3 to show all books\n",
            "press 4 to issue book\n",
            "press 5 to return book\n",
            "press 6 to add new student\n",
            "press 7 to delete student\n",
            "press 8 to stop the application\n",
            "choose an option3\n",
            "press 1 to add new book\n",
            "press 2 to delete book\n",
            "press 3 to show all books\n",
            "press 4 to issue book\n",
            "press 5 to return book\n",
            "press 6 to add new student\n",
            "press 7 to delete student\n",
            "press 8 to stop the application\n",
            "choose an option8\n",
            "exit\n"
          ]
        }
      ]
    }
  ]
}